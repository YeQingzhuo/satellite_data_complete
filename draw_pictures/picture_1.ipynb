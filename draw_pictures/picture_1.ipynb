{
 "cells": [
  {
   "cell_type": "code",
   "execution_count": 2,
   "metadata": {},
   "outputs": [
    {
     "ename": "FileNotFoundError",
     "evalue": "[Errno 2] No such file or directory: '/home/xuke/yqz/matrix_filling_pq/result#/Costco/ETTh1/day=1/rate=10%/result_3 +.txt'",
     "output_type": "error",
     "traceback": [
      "\u001b[0;31m---------------------------------------------------------------------------\u001b[0m",
      "\u001b[0;31mFileNotFoundError\u001b[0m                         Traceback (most recent call last)",
      "Cell \u001b[0;32mIn[2], line 59\u001b[0m\n\u001b[1;32m     55\u001b[0m file_path2 \u001b[38;5;241m=\u001b[39m \u001b[38;5;124m'\u001b[39m\u001b[38;5;124m/home/xuke/yqz/matrix_filling_pq/result#/Costco/ETTh1/day=1/rate=10\u001b[39m\u001b[38;5;124m%\u001b[39m\u001b[38;5;124m/result_3 +.txt\u001b[39m\u001b[38;5;124m'\u001b[39m\n\u001b[1;32m     58\u001b[0m epochs1, test_er1, test_mae1, test_rmse1, epoch_sum_loss1 \u001b[38;5;241m=\u001b[39m read_data(file_path1)\n\u001b[0;32m---> 59\u001b[0m epochs2, test_er2, test_mae2, test_rmse2, epoch_sum_loss2 \u001b[38;5;241m=\u001b[39m \u001b[43mread_data\u001b[49m\u001b[43m(\u001b[49m\u001b[43mfile_path2\u001b[49m\u001b[43m)\u001b[49m\n\u001b[1;32m     61\u001b[0m \u001b[38;5;66;03m# 绘制图表\u001b[39;00m\n\u001b[1;32m     62\u001b[0m plot_data(epochs1, test_er1, test_mae1, test_rmse1, epoch_sum_loss1, epochs2, test_er2, test_mae2, test_rmse2, epoch_sum_loss2)\n",
      "Cell \u001b[0;32mIn[2], line 11\u001b[0m, in \u001b[0;36mread_data\u001b[0;34m(file_path)\u001b[0m\n\u001b[1;32m      8\u001b[0m test_rmse \u001b[38;5;241m=\u001b[39m []\n\u001b[1;32m      9\u001b[0m epoch_sum_loss \u001b[38;5;241m=\u001b[39m []\n\u001b[0;32m---> 11\u001b[0m \u001b[38;5;28;01mwith\u001b[39;00m \u001b[38;5;28;43mopen\u001b[39;49m\u001b[43m(\u001b[49m\u001b[43mfile_path\u001b[49m\u001b[43m,\u001b[49m\u001b[43m \u001b[49m\u001b[38;5;124;43m'\u001b[39;49m\u001b[38;5;124;43mr\u001b[39;49m\u001b[38;5;124;43m'\u001b[39;49m\u001b[43m)\u001b[49m \u001b[38;5;28;01mas\u001b[39;00m file:\n\u001b[1;32m     12\u001b[0m     lines \u001b[38;5;241m=\u001b[39m file\u001b[38;5;241m.\u001b[39mreadlines()\n\u001b[1;32m     13\u001b[0m     \u001b[38;5;28;01mfor\u001b[39;00m line \u001b[38;5;129;01min\u001b[39;00m lines:\n",
      "File \u001b[0;32m~/.conda/envs/yqz/lib/python3.9/site-packages/IPython/core/interactiveshell.py:286\u001b[0m, in \u001b[0;36m_modified_open\u001b[0;34m(file, *args, **kwargs)\u001b[0m\n\u001b[1;32m    279\u001b[0m \u001b[38;5;28;01mif\u001b[39;00m file \u001b[38;5;129;01min\u001b[39;00m {\u001b[38;5;241m0\u001b[39m, \u001b[38;5;241m1\u001b[39m, \u001b[38;5;241m2\u001b[39m}:\n\u001b[1;32m    280\u001b[0m     \u001b[38;5;28;01mraise\u001b[39;00m \u001b[38;5;167;01mValueError\u001b[39;00m(\n\u001b[1;32m    281\u001b[0m         \u001b[38;5;124mf\u001b[39m\u001b[38;5;124m\"\u001b[39m\u001b[38;5;124mIPython won\u001b[39m\u001b[38;5;124m'\u001b[39m\u001b[38;5;124mt let you open fd=\u001b[39m\u001b[38;5;132;01m{\u001b[39;00mfile\u001b[38;5;132;01m}\u001b[39;00m\u001b[38;5;124m by default \u001b[39m\u001b[38;5;124m\"\u001b[39m\n\u001b[1;32m    282\u001b[0m         \u001b[38;5;124m\"\u001b[39m\u001b[38;5;124mas it is likely to crash IPython. If you know what you are doing, \u001b[39m\u001b[38;5;124m\"\u001b[39m\n\u001b[1;32m    283\u001b[0m         \u001b[38;5;124m\"\u001b[39m\u001b[38;5;124myou can use builtins\u001b[39m\u001b[38;5;124m'\u001b[39m\u001b[38;5;124m open.\u001b[39m\u001b[38;5;124m\"\u001b[39m\n\u001b[1;32m    284\u001b[0m     )\n\u001b[0;32m--> 286\u001b[0m \u001b[38;5;28;01mreturn\u001b[39;00m \u001b[43mio_open\u001b[49m\u001b[43m(\u001b[49m\u001b[43mfile\u001b[49m\u001b[43m,\u001b[49m\u001b[43m \u001b[49m\u001b[38;5;241;43m*\u001b[39;49m\u001b[43margs\u001b[49m\u001b[43m,\u001b[49m\u001b[43m \u001b[49m\u001b[38;5;241;43m*\u001b[39;49m\u001b[38;5;241;43m*\u001b[39;49m\u001b[43mkwargs\u001b[49m\u001b[43m)\u001b[49m\n",
      "\u001b[0;31mFileNotFoundError\u001b[0m: [Errno 2] No such file or directory: '/home/xuke/yqz/matrix_filling_pq/result#/Costco/ETTh1/day=1/rate=10%/result_3 +.txt'"
     ]
    }
   ],
   "source": [
    "import numpy as np\n",
    "import matplotlib.pyplot as plt\n",
    "\n",
    "def read_data(file_path):\n",
    "    epochs = []\n",
    "    test_er = []\n",
    "    test_mae = []\n",
    "    test_rmse = []\n",
    "    epoch_sum_loss = []\n",
    "    \n",
    "    with open(file_path, 'r') as file:\n",
    "        lines = file.readlines()\n",
    "        for line in lines:\n",
    "            if line.startswith('epoch ='):\n",
    "                epoch = int(line.split('=')[1].strip())\n",
    "                epochs.append(epoch)\n",
    "            elif line.startswith('test_er:'):\n",
    "                test_er_value = float(line.split(':')[1].strip())\n",
    "                test_er.append(test_er_value)\n",
    "            elif line.startswith('test_mae:'):\n",
    "                test_mae_value = float(line.split(':')[1].strip())\n",
    "                test_mae.append(test_mae_value)\n",
    "            elif line.startswith('test_rmse:'):\n",
    "                test_rmse_value = float(line.split(':')[1].strip())\n",
    "                test_rmse.append(test_rmse_value)\n",
    "            elif line.startswith('epoch sum loss ='):\n",
    "                epoch_sum_loss_value = float(line.split('=')[1].strip())\n",
    "                epoch_sum_loss.append(epoch_sum_loss_value)\n",
    "    \n",
    "    return epochs, test_er, test_mae, test_rmse, epoch_sum_loss\n",
    "\n",
    "def plot_data(epochs1, test_er1, test_mae1, test_rmse1, epoch_sum_loss1, epochs2, test_er2, test_mae2, test_rmse2, epoch_sum_loss2):\n",
    "\n",
    "    plt.figure(figsize=(10, 5))\n",
    "    \n",
    "    plt.plot(epochs1, test_er1, label='Test ER File 1', linestyle='-',color='blue')\n",
    "    plt.plot(epochs1, test_mae1, label='Test MAE File 1', linestyle='-',color='black')\n",
    "    plt.plot(epochs1, test_rmse1, label='Test RMSE File 1', linestyle='-', color='red')\n",
    "    plt.plot(epochs1, epoch_sum_loss1, label='Epoch Sum Loss File 1', linestyle='-', color='green')\n",
    "    \n",
    "    plt.plot(epochs2, test_er2, label='Test ER File 2', linestyle='--',color='blue')\n",
    "    plt.plot(epochs2, test_mae2, label='Test MAE File 2', linestyle='--',color='yellow')\n",
    "    plt.plot(epochs2, test_rmse2, label='Test RMSE File 2', linestyle='--', color='red')\n",
    "    plt.plot(epochs2, epoch_sum_loss2, label='Epoch Sum Loss File 2', linestyle='--', color='green')\n",
    "    \n",
    "    plt.xlabel('Epochs')\n",
    "    plt.ylabel('Values')\n",
    "    plt.title('Test Metrics over Epochs')\n",
    "    plt.ylim(0, 2)  \n",
    "    plt.legend()\n",
    "    plt.show()\n",
    "\n",
    "\n",
    "file_path1 = '../result#/Costco/ETTh1/day=1/rate=1%/result_+*.txt'\n",
    "file_path2 = '../result#/Costco/ETTh1/day=1/rate=1%/result_+.txt'\n",
    "\n",
    "\n",
    "epochs1, test_er1, test_mae1, test_rmse1, epoch_sum_loss1 = read_data(file_path1)\n",
    "epochs2, test_er2, test_mae2, test_rmse2, epoch_sum_loss2 = read_data(file_path2)\n",
    "\n",
    "\n",
    "plot_data(epochs1, test_er1, test_mae1, test_rmse1, epoch_sum_loss1, epochs2, test_er2, test_mae2, test_rmse2, epoch_sum_loss2)\n"
   ]
  }
 ],
 "metadata": {
  "kernelspec": {
   "display_name": "yqz",
   "language": "python",
   "name": "python3"
  },
  "language_info": {
   "codemirror_mode": {
    "name": "ipython",
    "version": 3
   },
   "file_extension": ".py",
   "mimetype": "text/x-python",
   "name": "python",
   "nbconvert_exporter": "python",
   "pygments_lexer": "ipython3",
   "version": "3.9.18"
  }
 },
 "nbformat": 4,
 "nbformat_minor": 2
}
